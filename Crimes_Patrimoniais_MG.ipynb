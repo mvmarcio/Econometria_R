{
  "nbformat": 4,
  "nbformat_minor": 0,
  "metadata": {
    "colab": {
      "name": "Crimes_Patrimoniais_MG.ipynb",
      "provenance": [],
      "authorship_tag": "ABX9TyOTz+BxMoFRadrtFqwwgZY7",
      "include_colab_link": true
    },
    "kernelspec": {
      "name": "ir",
      "display_name": "R"
    },
    "language_info": {
      "name": "R"
    }
  },
  "cells": [
    {
      "cell_type": "markdown",
      "metadata": {
        "id": "view-in-github",
        "colab_type": "text"
      },
      "source": [
        "<a href=\"https://colab.research.google.com/github/mvmarcio/Econometria_R/blob/main/Crimes_Patrimoniais_MG.ipynb\" target=\"_parent\"><img src=\"https://colab.research.google.com/assets/colab-badge.svg\" alt=\"Open In Colab\"/></a>"
      ]
    },
    {
      "cell_type": "markdown",
      "source": [
        "## **1. Introdução**\n",
        "\n",
        "O objetivo deste trabalho é realizar uma análise da metodologia do artigo “Uma análise teórica e empírica sobre o comportamento dos crimes patrimoniais no estado de Minas Gerais no período de 2000 a 2015”. Será feita uma breve introdução do artigo focando nas metodologias adotadas e principais resultados obtidos. \n",
        "\n",
        "\\\n",
        "\n",
        "O artigo analisou alguns dos fatores que podem ter influenciado a evolução do número de crimes violentos contra o patrimônio em Minas Gerais. Primeiro foi realizada uma revisão de literatura sobre a teórica econômica do crime e revisitar o modelo de oferta individual de crimes de Gary S. Becker (1968). \n",
        "\n",
        "\\\n",
        "\n",
        "Após a revisão de literatura é feita uma análise dos dados sobre o comportamento dos crimes patrimoniais no estado mineiro utilizando a metodologia dos dados em painel. Foram utilizadas as seguintes variáveis no modelo:\n",
        "\n",
        "![Fonte: Pexels. Imagem livre de direitos autorais](https://github.com/mvmarcio/Econometria_R/blob/23ba1ebe40a0f8a3992d29007f643aa2b362d011/variaveis.png)"
      ],
      "metadata": {
        "id": "zPkKdyXz3-RT"
      }
    },
    {
      "cell_type": "markdown",
      "source": [
        "O modelo populacional a ser estimado é dado por:\n",
        "\n",
        "$$\n",
        "{txcpt}_{it}=\\beta_0+\\beta_1\\ast{gpc_{edu}}_{it}+\\beta_2\\ast\\ {ypc_{stf}}_{it}+\\beta_3\\ast{tx_{urb}}_{it}+\\beta_4\\ast{den}_{it\\ }+\\beta_5\\ast jov+\\beta_6\\ast txnsf+\\beta_7\\ast txph10+{\\ u}_{it}\n",
        "$$"
      ],
      "metadata": {
        "id": "1_ouLCI_5JuV"
      }
    },
    {
      "cell_type": "markdown",
      "source": [
        "Em que i é i-ésimo município no vetor de municípios mineiros na amostra e t é um determinado período de tempo no vetor da variável tempo. Assume-se que o termo de erro $u_{it}$ tem média e variância constantes ao longo do tempo e que não há auto correlação serial, isto, ele é independente ao longo dos períodos e que também não tem covariância com as variáveis explicativas.\n",
        "\n",
        "\\\n",
        "\n",
        "Será feita a mesma análise metodológica utilizando as séries mais atuais, que vão até 2019. Houve uma única mudança nas variáveis que em jov, que será utilizada o número de jovens e não o percentual. Na base de dados original não este indicador e seria necessário cria-lo com base nas populações dos municípios da base. \n",
        "\n",
        "\\\n",
        "\n",
        "As principais conclusões que os autores chegaram foi que houve um significativo aumento nos crimes em cidades pequenas e que a taxa de crimes violentos contra o patrimônio está negativamente relacionada com o gasto per capita na área da educação, mas indicadores demográficos e de renda como taxa de urbanização, densidade demográfica, percentual de jovens na população e renda per capita do setor formal estão positivamente relacionados com a taxa de crimes violentos contra o patrimônio. Conclui-se pela indicação de políticas públicas de incentivo à redução da criminalidade.\n",
        "\n",
        "## **2. Metologia de Dados em Painel**\n",
        "\n",
        "Segundo Wooldridge (2016), a grande vantagem da metodologia dos dados em painel é que permitem analisar melhor as variações que comumente não são observadas em corte transversal, ou dados longitudinais, e ainda podem minimizar o viés e apresentar maior grau de liberdade.\n",
        "\n",
        "\\\n",
        "\n",
        "Com isto e com base em Wooldridge (2002), os modelos de dados em painel podem ser estáticos ou dinâmicos. Num modelo de painel estático, assume-se que as variáveis explicativas são independentes dos termos de perturbação. Já no que tem a ver com a questão da heterogeneidade, pode-se assumir que esta reside nos coeficientes de regressão (que podem variar no tempo ou de indivíduo para indivíduo) ou na estrutura dos termos de perturbação. \n",
        "\n",
        "\\\n",
        "\n",
        "Com base no que foi exposto acima, a escolha de uma especificação de validade universal é impossível, restando-nos escolher aquela que, face aos dados em concreto e ao tipo de problema em causa, melhor se adeque. O modelo dinâmico não será abordado nesta pesquisa.\n",
        "\n",
        "\\\n",
        "\n",
        "Os modelos estáticos de dados em painel podem ser divididos em três tipos de metodologia: modelo de dados empilhados (pooled), modelos de dados em painel em efeitos fixos ou fixed effects (FE) e modelo dados em painel em efeitos aleatórios ou random effects (RE) (Gujarati e Porter, 2011).\n",
        "\n",
        "\\\n",
        "\n",
        "A especificação de cada modelo encontra-se abaixo:\n",
        "\n",
        "\\\n",
        "\n",
        "i. *Pooled:* É a técnica de painel que desconsidera as dimensões de tempo e espaço, onde se empilham as observações e obtém-se a regressão. O principal problema é camuflar a heterogeneidade que possa existir entre as variáveis. Os coeficientes estimados na equação podem ser tendenciosos e inconsistentes (Gujarati e Porter, 2011).\n",
        "\n",
        "\\\n",
        "\n",
        "ii. Efeitos Fixos: Combinam-se todas as observações, deixando que cada unidade de corte transversal tenha sua própria variável dummy (intercepto). O termo “efeitos fixos” deve-se ao fato de que, embora o intercepto possa diferir entre os indivíduos, o intercepto de cada indivíduo não varia com o tempo (Gujarati e Porter, 2011).\n",
        "\n",
        "\\\n",
        "\n",
        "iii. Efeitos Aleatórios: Propõe diferentes termos de intercepto para cada observação, contudo, interceptos fixos ao longo do tempo. O intercepto(comum) representa o valor médio de todos os interceptos (de corte transversal) e o componente de erro $\\varepsilon_i$ representa o desvio (aleatório) do intercepto individual desse valor médio. No entanto, de que $\\varepsilon_i$ não é diretamente observável; ele é o que se conhece como uma variável não observável ou latente (Gujarati e Porter, 2011).\n",
        "\n",
        "\\\n",
        "\n",
        "Segundo Wooldridge (2016), para montar um modelo de dados em painel são utilizadas duas variáveis globais: uma variável identificadora de cada município analisado (id) e a variável indicadora de tempo (que vai montar a série temporal para cada variável).\n",
        "\n",
        "\\\n",
        "\n",
        "Como é um painel curto e cada município, e cada um deles é independente na amostra ao longo do tempo, espera-se que o modelo de efeitos fixos seja o mais adequado, pois segundo Gujarati e Porter (2011, p.603), a inferência estatística é condicional às unidades de corte transversal observadas na amostra. Isso é adequado se realmente as unidades individuais ou de corte transversal da amostra não sejam extrações aleatórias de uma amostra maior, como é o caso dos estados. Nesse caso, o modelo de efeitos fixos é adequado.\n",
        "\n",
        "\\\n",
        "\n",
        "\n",
        "Porém serão realizados testes de especificação adequados para a seleção do modelo mais eficiente e consistente, como mostrado em Wooldridge (2002), Wooldridge (2016) e Gujarati e Porter (2011). Inicialmente será realizado o teste F de Chow, cuja hipótese nula é de que não há mudança estrutural, para o qual, se o valor de F calculado for menor que F tabelado não rejeitaremos a hipótese nula. O resultado deste teste apresenta qual o melhor modelo a ser utilizado para regressão, se o Pooled ou Efeitos Fixos.\n",
        "\n",
        "\\\n",
        "\n",
        "Posteriormente será realizado o teste de Hausman, que é utilizado para testar se há simultaneidade, e qual o melhor efeito, se o Efeito Fixo ou Efeito Aleatório. Tem como hipótese nula que se não há simultaneidade, a correlação é igual a zero. Se o valor exceder o da tabela, utiliza-se o efeito fixo (Wooldridge, 2016).\n",
        "\n",
        "\\\n",
        "\n",
        "Por fim será realizado o teste de multiplicador de Lagrange de Breusch e Pagan, que verifica a presença de efeitos aleatórios no modelo, a hipótese nula do teste é a de que não há presença de efeitos aleatórios (Wooldridge, 2002). \n",
        "\n",
        "\\\n",
        "\n",
        "Inicialmente, por se tratar de um painel curto, também se considera a hipótese de que os efeitos aleatórios estão correlacionados com um ou mais regressores no modelo, por isso não se colocou o termo de erro composto. Esta hipótese será testada por meio do teste de Hausman (Gujarati e Porter, 2011). "
      ],
      "metadata": {
        "id": "1MQ3Hx-d5ZaJ"
      }
    },
    {
      "cell_type": "markdown",
      "source": [
        "## **3. Análise Descritiva**"
      ],
      "metadata": {
        "id": "dcf3aHeS5mI4"
      }
    },
    {
      "cell_type": "markdown",
      "source": [
        "### **3.1. Carregando Pacotes**"
      ],
      "metadata": {
        "id": "xG20hJ485oyv"
      }
    },
    {
      "cell_type": "code",
      "source": [
        "# 1. Carregando os pacotes necessarios:\n",
        "library(car) #pacote para testes do modelo de regressao\n",
        "library(AER) #pacote para mais testes do modelos\n",
        "library(psych) #pacote para estatisticas descritivas\n",
        "library(dplyr) #pacote para organizacao e tratamento dos dados\n",
        "library(tidyr) #pacote para organizacao e tratamento dos dados\n",
        "library(DescTools) #pacote para correcao de outliers\n",
        "# library(normtest) #pacote para testes de normalidade\n",
        "library(openxlsx) #leitura dos dados em excel\n",
        "library(readxl) #leitura dos dados em Excel\n",
        "library(stargazer) #tabelas das regressoes\n",
        "library(Hmisc) #correlacoes e testes\n",
        "library(plm) # dados em painel.\n",
        "library(stats) # organizacao dos dados\n",
        "\n",
        "options(scipen=999) # evita a transformação para notação científica"
      ],
      "metadata": {
        "id": "vv0Rpd0w6L8R"
      },
      "execution_count": null,
      "outputs": []
    },
    {
      "cell_type": "markdown",
      "source": [
        "### **3.2. Baixando os Dados para a Análise**"
      ],
      "metadata": {
        "id": "lvMkX-XW-XH-"
      }
    },
    {
      "cell_type": "code",
      "source": [
        "# 2. Mudando o diretorio:\n",
        "\n",
        "# 3. Baixando os dados:\n",
        "base <- read_excel(\"painel.xls\")\n",
        "\n",
        "# 3.1. Declarando o painel:\n",
        "base <- pdata.frame(base, index = c(\"id\", \"year\"))\n",
        "\n",
        "# 3.2. Corrigindo os valores faltantes:\n",
        "base <- na.omit(base)\n",
        "\n",
        "# 3.3. Balanceando o painel:\n",
        "base <- make.pbalanced(base, balance.type = \"shared.individuals\")\n",
        "\n",
        "pdim(base)"
      ],
      "metadata": {
        "colab": {
          "base_uri": "https://localhost:8080/",
          "height": 34
        },
        "id": "0UsyWX_6-bkO",
        "outputId": "8c6e802d-7684-4408-c9ee-7456f82027cf"
      },
      "execution_count": 6,
      "outputs": [
        {
          "output_type": "display_data",
          "data": {
            "text/plain": [
              "Balanced Panel: n = 796, T = 20, N = 15920"
            ]
          },
          "metadata": {}
        }
      ]
    },
    {
      "cell_type": "markdown",
      "source": [
        "A amostra da pesquisa foi balanceada e obteve 796 municípios para o estado de MG para os anos de 2000 a 2019. Os estados foram selecionados com base na disponibilidade dos dados. Os municípios desbalanceados e valores faltantes foram retirados da amostra. \n",
        "\n",
        "\\\n",
        "\n",
        "Primeiramente serão realizadas as estatísticas descritivas para verificar a características dos dados. Seguem abaixo as estatísticas descritivas das variáveis do modelo:"
      ],
      "metadata": {
        "id": "4O7VA1iEBd0S"
      }
    },
    {
      "cell_type": "code",
      "source": [
        "# 4. Observando os tipos de variaveis:\n",
        "# str(base)\n",
        "\n",
        "# 5. Estatisticas descritivas das variaveis quantitativas nao binarias:\n",
        "descritivas <- psych::describe(base[, 4:11], \n",
        "                               quant = c(.25, .75))\n",
        "descritivas"
      ],
      "metadata": {
        "colab": {
          "base_uri": "https://localhost:8080/",
          "height": 369
        },
        "id": "TPw1mzpaBkTK",
        "outputId": "2d737821-76af-415e-b8dc-ce7d3133ed41"
      },
      "execution_count": 7,
      "outputs": [
        {
          "output_type": "display_data",
          "data": {
            "text/html": [
              "<table class=\"dataframe\">\n",
              "<caption>A psych: 8 × 15</caption>\n",
              "<thead>\n",
              "\t<tr><th></th><th scope=col>vars</th><th scope=col>n</th><th scope=col>mean</th><th scope=col>sd</th><th scope=col>median</th><th scope=col>trimmed</th><th scope=col>mad</th><th scope=col>min</th><th scope=col>max</th><th scope=col>range</th><th scope=col>skew</th><th scope=col>kurtosis</th><th scope=col>se</th><th scope=col>Q0.25</th><th scope=col>Q0.75</th></tr>\n",
              "\t<tr><th></th><th scope=col>&lt;int&gt;</th><th scope=col>&lt;dbl&gt;</th><th scope=col>&lt;dbl&gt;</th><th scope=col>&lt;dbl&gt;</th><th scope=col>&lt;dbl&gt;</th><th scope=col>&lt;dbl&gt;</th><th scope=col>&lt;dbl&gt;</th><th scope=col>&lt;dbl&gt;</th><th scope=col>&lt;dbl&gt;</th><th scope=col>&lt;dbl&gt;</th><th scope=col>&lt;dbl&gt;</th><th scope=col>&lt;dbl&gt;</th><th scope=col>&lt;dbl&gt;</th><th scope=col>&lt;dbl&gt;</th><th scope=col>&lt;dbl&gt;</th></tr>\n",
              "</thead>\n",
              "<tbody>\n",
              "\t<tr><th scope=row>txcpt</th><td>1</td><td>15920</td><td>  88.88533</td><td>  165.98290</td><td>  47.075</td><td>  59.66187</td><td>  53.840617</td><td>  0.00</td><td>  6439.17</td><td>  6439.17</td><td>12.045435</td><td>  318.1646965</td><td>  1.31550293</td><td> 18.5375</td><td> 102.3600</td></tr>\n",
              "\t<tr><th scope=row>gpc_edu</th><td>2</td><td>15920</td><td> 416.88928</td><td> 1232.66938</td><td> 347.795</td><td> 367.95503</td><td> 244.473333</td><td>  0.00</td><td>140968.70</td><td>140968.70</td><td>97.937114</td><td>10806.0450231</td><td>  9.76956163</td><td>197.5300</td><td> 537.1950</td></tr>\n",
              "\t<tr><th scope=row>ypc_stf</th><td>3</td><td>15920</td><td> 146.10410</td><td>  174.22067</td><td> 100.760</td><td> 116.78984</td><td>  79.393229</td><td>  0.14</td><td>  3821.10</td><td>  3820.96</td><td> 7.057109</td><td>   96.2015307</td><td>  1.38079166</td><td> 56.4200</td><td> 178.7400</td></tr>\n",
              "\t<tr><th scope=row>tx_urb</th><td>4</td><td>15920</td><td>  67.88568</td><td>   19.22868</td><td>  70.345</td><td>  68.87517</td><td>  21.297546</td><td> 11.80</td><td>   102.33</td><td>    90.53</td><td>-0.398905</td><td>   -0.6450612</td><td>  0.15239750</td><td> 54.2700</td><td>  83.1725</td></tr>\n",
              "\t<tr><th scope=row>den</th><td>5</td><td>15920</td><td>  65.24775</td><td>  320.36268</td><td>  22.685</td><td>  27.49661</td><td>  18.465781</td><td>  1.32</td><td>  7607.03</td><td>  7605.71</td><td>16.414867</td><td>  328.8608612</td><td>  2.53904489</td><td> 12.7700</td><td>  42.1000</td></tr>\n",
              "\t<tr><th scope=row>jovens</th><td>6</td><td>15920</td><td>3907.76357</td><td>16697.09023</td><td>1395.500</td><td>1873.26877</td><td>1090.452300</td><td>110.00</td><td>453864.00</td><td>453754.00</td><td>20.383312</td><td>  493.3318055</td><td>132.33333647</td><td>814.0000</td><td>2939.0000</td></tr>\n",
              "\t<tr><th scope=row>txnsf</th><td>7</td><td>15920</td><td>  18.80516</td><td>   11.51057</td><td>  16.600</td><td>  17.45489</td><td>   9.488641</td><td>  0.10</td><td>   146.80</td><td>   146.70</td><td> 2.405977</td><td>   13.3803563</td><td>  0.09122739</td><td> 10.8000</td><td>  24.2000</td></tr>\n",
              "\t<tr><th scope=row>txph10</th><td>8</td><td>15920</td><td> 824.91786</td><td>  498.77632</td><td> 711.650</td><td> 757.32896</td><td> 360.961204</td><td>  0.00</td><td> 18711.76</td><td> 18711.76</td><td> 4.559052</td><td>  109.1451014</td><td>  3.95306810</td><td>497.4575</td><td>1015.0625</td></tr>\n",
              "</tbody>\n",
              "</table>\n"
            ],
            "text/markdown": "\nA psych: 8 × 15\n\n| <!--/--> | vars &lt;int&gt; | n &lt;dbl&gt; | mean &lt;dbl&gt; | sd &lt;dbl&gt; | median &lt;dbl&gt; | trimmed &lt;dbl&gt; | mad &lt;dbl&gt; | min &lt;dbl&gt; | max &lt;dbl&gt; | range &lt;dbl&gt; | skew &lt;dbl&gt; | kurtosis &lt;dbl&gt; | se &lt;dbl&gt; | Q0.25 &lt;dbl&gt; | Q0.75 &lt;dbl&gt; |\n|---|---|---|---|---|---|---|---|---|---|---|---|---|---|---|---|\n| txcpt | 1 | 15920 |   88.88533 |   165.98290 |   47.075 |   59.66187 |   53.840617 |   0.00 |   6439.17 |   6439.17 | 12.045435 |   318.1646965 |   1.31550293 |  18.5375 |  102.3600 |\n| gpc_edu | 2 | 15920 |  416.88928 |  1232.66938 |  347.795 |  367.95503 |  244.473333 |   0.00 | 140968.70 | 140968.70 | 97.937114 | 10806.0450231 |   9.76956163 | 197.5300 |  537.1950 |\n| ypc_stf | 3 | 15920 |  146.10410 |   174.22067 |  100.760 |  116.78984 |   79.393229 |   0.14 |   3821.10 |   3820.96 |  7.057109 |    96.2015307 |   1.38079166 |  56.4200 |  178.7400 |\n| tx_urb | 4 | 15920 |   67.88568 |    19.22868 |   70.345 |   68.87517 |   21.297546 |  11.80 |    102.33 |     90.53 | -0.398905 |    -0.6450612 |   0.15239750 |  54.2700 |   83.1725 |\n| den | 5 | 15920 |   65.24775 |   320.36268 |   22.685 |   27.49661 |   18.465781 |   1.32 |   7607.03 |   7605.71 | 16.414867 |   328.8608612 |   2.53904489 |  12.7700 |   42.1000 |\n| jovens | 6 | 15920 | 3907.76357 | 16697.09023 | 1395.500 | 1873.26877 | 1090.452300 | 110.00 | 453864.00 | 453754.00 | 20.383312 |   493.3318055 | 132.33333647 | 814.0000 | 2939.0000 |\n| txnsf | 7 | 15920 |   18.80516 |    11.51057 |   16.600 |   17.45489 |    9.488641 |   0.10 |    146.80 |    146.70 |  2.405977 |    13.3803563 |   0.09122739 |  10.8000 |   24.2000 |\n| txph10 | 8 | 15920 |  824.91786 |   498.77632 |  711.650 |  757.32896 |  360.961204 |   0.00 |  18711.76 |  18711.76 |  4.559052 |   109.1451014 |   3.95306810 | 497.4575 | 1015.0625 |\n\n",
            "text/latex": "A psych: 8 × 15\n\\begin{tabular}{r|lllllllllllllll}\n  & vars & n & mean & sd & median & trimmed & mad & min & max & range & skew & kurtosis & se & Q0.25 & Q0.75\\\\\n  & <int> & <dbl> & <dbl> & <dbl> & <dbl> & <dbl> & <dbl> & <dbl> & <dbl> & <dbl> & <dbl> & <dbl> & <dbl> & <dbl> & <dbl>\\\\\n\\hline\n\ttxcpt & 1 & 15920 &   88.88533 &   165.98290 &   47.075 &   59.66187 &   53.840617 &   0.00 &   6439.17 &   6439.17 & 12.045435 &   318.1646965 &   1.31550293 &  18.5375 &  102.3600\\\\\n\tgpc\\_edu & 2 & 15920 &  416.88928 &  1232.66938 &  347.795 &  367.95503 &  244.473333 &   0.00 & 140968.70 & 140968.70 & 97.937114 & 10806.0450231 &   9.76956163 & 197.5300 &  537.1950\\\\\n\typc\\_stf & 3 & 15920 &  146.10410 &   174.22067 &  100.760 &  116.78984 &   79.393229 &   0.14 &   3821.10 &   3820.96 &  7.057109 &    96.2015307 &   1.38079166 &  56.4200 &  178.7400\\\\\n\ttx\\_urb & 4 & 15920 &   67.88568 &    19.22868 &   70.345 &   68.87517 &   21.297546 &  11.80 &    102.33 &     90.53 & -0.398905 &    -0.6450612 &   0.15239750 &  54.2700 &   83.1725\\\\\n\tden & 5 & 15920 &   65.24775 &   320.36268 &   22.685 &   27.49661 &   18.465781 &   1.32 &   7607.03 &   7605.71 & 16.414867 &   328.8608612 &   2.53904489 &  12.7700 &   42.1000\\\\\n\tjovens & 6 & 15920 & 3907.76357 & 16697.09023 & 1395.500 & 1873.26877 & 1090.452300 & 110.00 & 453864.00 & 453754.00 & 20.383312 &   493.3318055 & 132.33333647 & 814.0000 & 2939.0000\\\\\n\ttxnsf & 7 & 15920 &   18.80516 &    11.51057 &   16.600 &   17.45489 &    9.488641 &   0.10 &    146.80 &    146.70 &  2.405977 &    13.3803563 &   0.09122739 &  10.8000 &   24.2000\\\\\n\ttxph10 & 8 & 15920 &  824.91786 &   498.77632 &  711.650 &  757.32896 &  360.961204 &   0.00 &  18711.76 &  18711.76 &  4.559052 &   109.1451014 &   3.95306810 & 497.4575 & 1015.0625\\\\\n\\end{tabular}\n",
            "text/plain": [
              "        vars n     mean       sd          median   trimmed    mad        \n",
              "txcpt   1    15920   88.88533   165.98290   47.075   59.66187   53.840617\n",
              "gpc_edu 2    15920  416.88928  1232.66938  347.795  367.95503  244.473333\n",
              "ypc_stf 3    15920  146.10410   174.22067  100.760  116.78984   79.393229\n",
              "tx_urb  4    15920   67.88568    19.22868   70.345   68.87517   21.297546\n",
              "den     5    15920   65.24775   320.36268   22.685   27.49661   18.465781\n",
              "jovens  6    15920 3907.76357 16697.09023 1395.500 1873.26877 1090.452300\n",
              "txnsf   7    15920   18.80516    11.51057   16.600   17.45489    9.488641\n",
              "txph10  8    15920  824.91786   498.77632  711.650  757.32896  360.961204\n",
              "        min    max       range     skew      kurtosis      se          \n",
              "txcpt     0.00   6439.17   6439.17 12.045435   318.1646965   1.31550293\n",
              "gpc_edu   0.00 140968.70 140968.70 97.937114 10806.0450231   9.76956163\n",
              "ypc_stf   0.14   3821.10   3820.96  7.057109    96.2015307   1.38079166\n",
              "tx_urb   11.80    102.33     90.53 -0.398905    -0.6450612   0.15239750\n",
              "den       1.32   7607.03   7605.71 16.414867   328.8608612   2.53904489\n",
              "jovens  110.00 453864.00 453754.00 20.383312   493.3318055 132.33333647\n",
              "txnsf     0.10    146.80    146.70  2.405977    13.3803563   0.09122739\n",
              "txph10    0.00  18711.76  18711.76  4.559052   109.1451014   3.95306810\n",
              "        Q0.25    Q0.75    \n",
              "txcpt    18.5375  102.3600\n",
              "gpc_edu 197.5300  537.1950\n",
              "ypc_stf  56.4200  178.7400\n",
              "tx_urb   54.2700   83.1725\n",
              "den      12.7700   42.1000\n",
              "jovens  814.0000 2939.0000\n",
              "txnsf    10.8000   24.2000\n",
              "txph10  497.4575 1015.0625"
            ]
          },
          "metadata": {}
        }
      ]
    },
    {
      "cell_type": "markdown",
      "source": [
        "As estatísticas descritivas são importantes para avaliar a distribuição dos dados para uma modelagem mais assertiva para a regressão. Com exceção das da variável de taxa de urbanização, todas as demais apresentaram forte assimetria, curtose e variabilidade, pois tiveram um coeficiente de variação igual ou maior a 30%. Antes da análise de regressão serão realizados testes para a detecção de outliers nestas variáveis, pois a regressão, assim como a análise ANOVA, é um análise de variância e é sensível à presença de valores extremos (Hair et al., 2009). Problemas com dispersão, assimetria e curtose nos dados podem gerar alta variabilidade no modelo, o que não é desejável. \n",
        "\n",
        "\\\n",
        "\n",
        "Com exceção da variável de taxa de urbanização, todas as demais apresentaram a presença de outliers e por este motivo foi feito o ajuste dos valores extremos com base na mediana, isto é, os valores nos extremos de cada variável foram ajustados aos valores das suas respectivas medianas (Hastings, et al., 1947). Isso é feito para um melhor ajuste do modelo de regressão.\n",
        "\n",
        "\\\n",
        "\n",
        "Seguem abaixo a correção dos outliers nas variáveis do modelo:\n"
      ],
      "metadata": {
        "id": "6NBqemAuBqbs"
      }
    },
    {
      "cell_type": "code",
      "source": [
        "# 6.3. Corrigindo os outliers na base:\n",
        "base$txcpt <- Winsorize(base$txcpt, probs = c(.10, .90))\n",
        "base$gpc_edu <- Winsorize(base$gpc_edu, probs = c(.05, .95))\n",
        "base$ypc_stf <- Winsorize(base$ypc_stf, probs = c(.1, .90))\n",
        "base$den <- Winsorize(base$den, probs = c(.10, .90))\n",
        "base$jovens <- Winsorize(base$jovens, probs = c(.11, .89))\n",
        "base$txnsf <- Winsorize(base$txnsf, probs = c(.05, .95))\n",
        "base$txph10 <- Winsorize(base$txph10, probs = c(.05, .95))\n",
        "\n",
        "# 6.4. Histograma e box-plot da variável dependente:\n",
        "hist(base$txcpt, ylab = \"Frequência\", xlab = \"\",\n",
        "     col = \"white\", main = \"txcpt\")\n",
        "\n",
        "boxplot(base$txcpt, ylab = \"Frequência\", xlab = \"\",\n",
        "        col = \"white\", main = \"txcpt\")"
      ],
      "metadata": {
        "colab": {
          "base_uri": "https://localhost:8080/",
          "height": 857
        },
        "id": "U32rzV9cBvzp",
        "outputId": "ded8bdcc-c546-4c43-9e05-e74bcf3a0445"
      },
      "execution_count": 8,
      "outputs": [
        {
          "output_type": "display_data",
          "data": {
            "text/plain": [
              "Plot with title “txcpt”"
            ],
            "image/png": "[encoded data removed]"
          },
          "metadata": {
            "image/png": {
              "width": 420,
              "height": 420
            }
          }
        },
        {
          "output_type": "display_data",
          "data": {
            "text/plain": [
              "Plot with title “txcpt”"
            ],
            "image/png": "[encoded data removed]"
          },
          "metadata": {
            "image/png": {
              "width": 420,
              "height": 420
            }
          }
        }
      ]
    },
    {
      "cell_type": "markdown",
      "source": [
        "### **3.4. Correlações Lineares**\n",
        "\n",
        "Neste caso, espera-se uma forte correlação da variável com as demais variáveis e uma correlação fraca ou moderada entre as demais. Correlações lineares próximas de 1 ou -1 indicam que uma variável pode ser transformação linear de outra (Guimarães e Lima, 2008), gerando o problema da multicolinaridade no modelo (que será testada). Neste caso, quase todas as correlações entre as variáveis independentes foram baixas ou moderadas. \n",
        "\n",
        "\\\n",
        "\n",
        "Seguem abaixo as correlações:"
      ],
      "metadata": {
        "id": "5Dvc9e-3CBLi"
      }
    },
    {
      "cell_type": "code",
      "source": [
        "# 10. Correlacoes. Como ha variaveis binarias no modelo, sera empregada a \n",
        "# correlacao de Spearman, que e a mais indicada quando ha este tipo de variavel.\n",
        "# A correlacao de Pearson funciona bem com dados quantitativos continuos e com\n",
        "# baixa variabilidade.\n",
        "\n",
        "correlates <- rcorr(as.matrix(base[, 4:11]),\n",
        "                     type=c(\"pearson\"))\n",
        "\n",
        "correlacoes <- data.frame(correlates$r)\n",
        "\n",
        "\n",
        "# Hide upper triangle\n",
        "Data1 <- base[, c(4:11)]\n",
        "Data.cor <- round(cor(Data1),3)\n",
        "# Data.cor\n",
        "\n",
        "upper<-Data.cor\n",
        "upper[upper.tri(Data.cor)]<-\"\"\n",
        "upper<-as.data.frame(upper)\n",
        "upper"
      ],
      "metadata": {
        "colab": {
          "base_uri": "https://localhost:8080/",
          "height": 349
        },
        "id": "JZ1kreJnCFoS",
        "outputId": "ff48178d-1080-4e0a-b606-f1d4010a3f4c"
      },
      "execution_count": 9,
      "outputs": [
        {
          "output_type": "display_data",
          "data": {
            "text/html": [
              "<table class=\"dataframe\">\n",
              "<caption>A data.frame: 8 × 8</caption>\n",
              "<thead>\n",
              "\t<tr><th></th><th scope=col>txcpt</th><th scope=col>gpc_edu</th><th scope=col>ypc_stf</th><th scope=col>tx_urb</th><th scope=col>den</th><th scope=col>jovens</th><th scope=col>txnsf</th><th scope=col>txph10</th></tr>\n",
              "\t<tr><th></th><th scope=col>&lt;chr&gt;</th><th scope=col>&lt;chr&gt;</th><th scope=col>&lt;chr&gt;</th><th scope=col>&lt;chr&gt;</th><th scope=col>&lt;chr&gt;</th><th scope=col>&lt;chr&gt;</th><th scope=col>&lt;chr&gt;</th><th scope=col>&lt;chr&gt;</th></tr>\n",
              "</thead>\n",
              "<tbody>\n",
              "\t<tr><th scope=row>txcpt</th><td>1    </td><td>      </td><td>     </td><td>      </td><td>      </td><td>      </td><td>     </td><td> </td></tr>\n",
              "\t<tr><th scope=row>gpc_edu</th><td>0.116</td><td>1     </td><td>     </td><td>      </td><td>      </td><td>      </td><td>     </td><td> </td></tr>\n",
              "\t<tr><th scope=row>ypc_stf</th><td>0.492</td><td>0.486 </td><td>1    </td><td>      </td><td>      </td><td>      </td><td>     </td><td> </td></tr>\n",
              "\t<tr><th scope=row>tx_urb</th><td>0.405</td><td>0.077 </td><td>0.514</td><td>1     </td><td>      </td><td>      </td><td>     </td><td> </td></tr>\n",
              "\t<tr><th scope=row>den</th><td>0.359</td><td>-0.137</td><td>0.332</td><td>0.442 </td><td>1     </td><td>      </td><td>     </td><td> </td></tr>\n",
              "\t<tr><th scope=row>jovens</th><td>0.474</td><td>-0.297</td><td>0.323</td><td>0.403 </td><td>0.492 </td><td>1     </td><td>     </td><td> </td></tr>\n",
              "\t<tr><th scope=row>txnsf</th><td>0.441</td><td>0.236 </td><td>0.853</td><td>0.539 </td><td>0.353 </td><td>0.345 </td><td>1    </td><td> </td></tr>\n",
              "\t<tr><th scope=row>txph10</th><td>0.009</td><td>-0.01 </td><td>0.008</td><td>-0.004</td><td>-0.015</td><td>-0.009</td><td>0.014</td><td>1</td></tr>\n",
              "</tbody>\n",
              "</table>\n"
            ],
            "text/markdown": "\nA data.frame: 8 × 8\n\n| <!--/--> | txcpt &lt;chr&gt; | gpc_edu &lt;chr&gt; | ypc_stf &lt;chr&gt; | tx_urb &lt;chr&gt; | den &lt;chr&gt; | jovens &lt;chr&gt; | txnsf &lt;chr&gt; | txph10 &lt;chr&gt; |\n|---|---|---|---|---|---|---|---|---|\n| txcpt | 1     | <!----> | <!----> | <!----> | <!----> | <!----> | <!----> | <!----> |\n| gpc_edu | 0.116 | 1      | <!----> | <!----> | <!----> | <!----> | <!----> | <!----> |\n| ypc_stf | 0.492 | 0.486  | 1     | <!----> | <!----> | <!----> | <!----> | <!----> |\n| tx_urb | 0.405 | 0.077  | 0.514 | 1      | <!----> | <!----> | <!----> | <!----> |\n| den | 0.359 | -0.137 | 0.332 | 0.442  | 1      | <!----> | <!----> | <!----> |\n| jovens | 0.474 | -0.297 | 0.323 | 0.403  | 0.492  | 1      | <!----> | <!----> |\n| txnsf | 0.441 | 0.236  | 0.853 | 0.539  | 0.353  | 0.345  | 1     | <!----> |\n| txph10 | 0.009 | -0.01  | 0.008 | -0.004 | -0.015 | -0.009 | 0.014 | 1 |\n\n",
            "text/latex": "A data.frame: 8 × 8\n\\begin{tabular}{r|llllllll}\n  & txcpt & gpc\\_edu & ypc\\_stf & tx\\_urb & den & jovens & txnsf & txph10\\\\\n  & <chr> & <chr> & <chr> & <chr> & <chr> & <chr> & <chr> & <chr>\\\\\n\\hline\n\ttxcpt & 1     &        &       &        &        &        &       &  \\\\\n\tgpc\\_edu & 0.116 & 1      &       &        &        &        &       &  \\\\\n\typc\\_stf & 0.492 & 0.486  & 1     &        &        &        &       &  \\\\\n\ttx\\_urb & 0.405 & 0.077  & 0.514 & 1      &        &        &       &  \\\\\n\tden & 0.359 & -0.137 & 0.332 & 0.442  & 1      &        &       &  \\\\\n\tjovens & 0.474 & -0.297 & 0.323 & 0.403  & 0.492  & 1      &       &  \\\\\n\ttxnsf & 0.441 & 0.236  & 0.853 & 0.539  & 0.353  & 0.345  & 1     &  \\\\\n\ttxph10 & 0.009 & -0.01  & 0.008 & -0.004 & -0.015 & -0.009 & 0.014 & 1\\\\\n\\end{tabular}\n",
            "text/plain": [
              "        txcpt gpc_edu ypc_stf tx_urb den    jovens txnsf txph10\n",
              "txcpt   1                                                      \n",
              "gpc_edu 0.116 1                                                \n",
              "ypc_stf 0.492 0.486   1                                        \n",
              "tx_urb  0.405 0.077   0.514   1                                \n",
              "den     0.359 -0.137  0.332   0.442  1                         \n",
              "jovens  0.474 -0.297  0.323   0.403  0.492  1                  \n",
              "txnsf   0.441 0.236   0.853   0.539  0.353  0.345  1           \n",
              "txph10  0.009 -0.01   0.008   -0.004 -0.015 -0.009 0.014 1     "
            ]
          },
          "metadata": {}
        }
      ]
    },
    {
      "cell_type": "markdown",
      "source": [
        "Vamos testar a significância estatísticas das correlações:"
      ],
      "metadata": {
        "id": "5yaQLv7uCJwS"
      }
    },
    {
      "cell_type": "code",
      "source": [
        "# Algumas correlacoes foram acima de 0,95 e isto pode gerar multicolinearidade\n",
        "# no modelo. Caso isto ocorra, algumas variaveis poderao ser retiradas.\n",
        "\n",
        "# Signficancia das correalacoes:\n",
        "correlacoes_p <- data.frame(correlates$P)\n",
        "correlacoes_p"
      ],
      "metadata": {
        "colab": {
          "base_uri": "https://localhost:8080/",
          "height": 349
        },
        "id": "1wAj6Rl3CN1a",
        "outputId": "47144516-4f4c-4532-cd86-1ef9d07ee24c"
      },
      "execution_count": 10,
      "outputs": [
        {
          "output_type": "display_data",
          "data": {
            "text/html": [
              "<table class=\"dataframe\">\n",
              "<caption>A data.frame: 8 × 8</caption>\n",
              "<thead>\n",
              "\t<tr><th></th><th scope=col>txcpt</th><th scope=col>gpc_edu</th><th scope=col>ypc_stf</th><th scope=col>tx_urb</th><th scope=col>den</th><th scope=col>jovens</th><th scope=col>txnsf</th><th scope=col>txph10</th></tr>\n",
              "\t<tr><th></th><th scope=col>&lt;dbl&gt;</th><th scope=col>&lt;dbl&gt;</th><th scope=col>&lt;dbl&gt;</th><th scope=col>&lt;dbl&gt;</th><th scope=col>&lt;dbl&gt;</th><th scope=col>&lt;dbl&gt;</th><th scope=col>&lt;dbl&gt;</th><th scope=col>&lt;dbl&gt;</th></tr>\n",
              "</thead>\n",
              "<tbody>\n",
              "\t<tr><th scope=row>txcpt</th><td>       NA</td><td>0.000000</td><td>0.0000000</td><td>0.0000000</td><td>0.00000000</td><td>0.0000000</td><td>0.00000000</td><td>0.26650821</td></tr>\n",
              "\t<tr><th scope=row>gpc_edu</th><td>0.0000000</td><td>      NA</td><td>0.0000000</td><td>0.0000000</td><td>0.00000000</td><td>0.0000000</td><td>0.00000000</td><td>0.20155503</td></tr>\n",
              "\t<tr><th scope=row>ypc_stf</th><td>0.0000000</td><td>0.000000</td><td>       NA</td><td>0.0000000</td><td>0.00000000</td><td>0.0000000</td><td>0.00000000</td><td>0.30153751</td></tr>\n",
              "\t<tr><th scope=row>tx_urb</th><td>0.0000000</td><td>0.000000</td><td>0.0000000</td><td>       NA</td><td>0.00000000</td><td>0.0000000</td><td>0.00000000</td><td>0.62296478</td></tr>\n",
              "\t<tr><th scope=row>den</th><td>0.0000000</td><td>0.000000</td><td>0.0000000</td><td>0.0000000</td><td>        NA</td><td>0.0000000</td><td>0.00000000</td><td>0.06624439</td></tr>\n",
              "\t<tr><th scope=row>jovens</th><td>0.0000000</td><td>0.000000</td><td>0.0000000</td><td>0.0000000</td><td>0.00000000</td><td>       NA</td><td>0.00000000</td><td>0.26511672</td></tr>\n",
              "\t<tr><th scope=row>txnsf</th><td>0.0000000</td><td>0.000000</td><td>0.0000000</td><td>0.0000000</td><td>0.00000000</td><td>0.0000000</td><td>        NA</td><td>0.08694486</td></tr>\n",
              "\t<tr><th scope=row>txph10</th><td>0.2665082</td><td>0.201555</td><td>0.3015375</td><td>0.6229648</td><td>0.06624439</td><td>0.2651167</td><td>0.08694486</td><td>        NA</td></tr>\n",
              "</tbody>\n",
              "</table>\n"
            ],
            "text/markdown": "\nA data.frame: 8 × 8\n\n| <!--/--> | txcpt &lt;dbl&gt; | gpc_edu &lt;dbl&gt; | ypc_stf &lt;dbl&gt; | tx_urb &lt;dbl&gt; | den &lt;dbl&gt; | jovens &lt;dbl&gt; | txnsf &lt;dbl&gt; | txph10 &lt;dbl&gt; |\n|---|---|---|---|---|---|---|---|---|\n| txcpt |        NA | 0.000000 | 0.0000000 | 0.0000000 | 0.00000000 | 0.0000000 | 0.00000000 | 0.26650821 |\n| gpc_edu | 0.0000000 |       NA | 0.0000000 | 0.0000000 | 0.00000000 | 0.0000000 | 0.00000000 | 0.20155503 |\n| ypc_stf | 0.0000000 | 0.000000 |        NA | 0.0000000 | 0.00000000 | 0.0000000 | 0.00000000 | 0.30153751 |\n| tx_urb | 0.0000000 | 0.000000 | 0.0000000 |        NA | 0.00000000 | 0.0000000 | 0.00000000 | 0.62296478 |\n| den | 0.0000000 | 0.000000 | 0.0000000 | 0.0000000 |         NA | 0.0000000 | 0.00000000 | 0.06624439 |\n| jovens | 0.0000000 | 0.000000 | 0.0000000 | 0.0000000 | 0.00000000 |        NA | 0.00000000 | 0.26511672 |\n| txnsf | 0.0000000 | 0.000000 | 0.0000000 | 0.0000000 | 0.00000000 | 0.0000000 |         NA | 0.08694486 |\n| txph10 | 0.2665082 | 0.201555 | 0.3015375 | 0.6229648 | 0.06624439 | 0.2651167 | 0.08694486 |         NA |\n\n",
            "text/latex": "A data.frame: 8 × 8\n\\begin{tabular}{r|llllllll}\n  & txcpt & gpc\\_edu & ypc\\_stf & tx\\_urb & den & jovens & txnsf & txph10\\\\\n  & <dbl> & <dbl> & <dbl> & <dbl> & <dbl> & <dbl> & <dbl> & <dbl>\\\\\n\\hline\n\ttxcpt &        NA & 0.000000 & 0.0000000 & 0.0000000 & 0.00000000 & 0.0000000 & 0.00000000 & 0.26650821\\\\\n\tgpc\\_edu & 0.0000000 &       NA & 0.0000000 & 0.0000000 & 0.00000000 & 0.0000000 & 0.00000000 & 0.20155503\\\\\n\typc\\_stf & 0.0000000 & 0.000000 &        NA & 0.0000000 & 0.00000000 & 0.0000000 & 0.00000000 & 0.30153751\\\\\n\ttx\\_urb & 0.0000000 & 0.000000 & 0.0000000 &        NA & 0.00000000 & 0.0000000 & 0.00000000 & 0.62296478\\\\\n\tden & 0.0000000 & 0.000000 & 0.0000000 & 0.0000000 &         NA & 0.0000000 & 0.00000000 & 0.06624439\\\\\n\tjovens & 0.0000000 & 0.000000 & 0.0000000 & 0.0000000 & 0.00000000 &        NA & 0.00000000 & 0.26511672\\\\\n\ttxnsf & 0.0000000 & 0.000000 & 0.0000000 & 0.0000000 & 0.00000000 & 0.0000000 &         NA & 0.08694486\\\\\n\ttxph10 & 0.2665082 & 0.201555 & 0.3015375 & 0.6229648 & 0.06624439 & 0.2651167 & 0.08694486 &         NA\\\\\n\\end{tabular}\n",
            "text/plain": [
              "        txcpt     gpc_edu  ypc_stf   tx_urb    den        jovens    txnsf     \n",
              "txcpt          NA 0.000000 0.0000000 0.0000000 0.00000000 0.0000000 0.00000000\n",
              "gpc_edu 0.0000000       NA 0.0000000 0.0000000 0.00000000 0.0000000 0.00000000\n",
              "ypc_stf 0.0000000 0.000000        NA 0.0000000 0.00000000 0.0000000 0.00000000\n",
              "tx_urb  0.0000000 0.000000 0.0000000        NA 0.00000000 0.0000000 0.00000000\n",
              "den     0.0000000 0.000000 0.0000000 0.0000000         NA 0.0000000 0.00000000\n",
              "jovens  0.0000000 0.000000 0.0000000 0.0000000 0.00000000        NA 0.00000000\n",
              "txnsf   0.0000000 0.000000 0.0000000 0.0000000 0.00000000 0.0000000         NA\n",
              "txph10  0.2665082 0.201555 0.3015375 0.6229648 0.06624439 0.2651167 0.08694486\n",
              "        txph10    \n",
              "txcpt   0.26650821\n",
              "gpc_edu 0.20155503\n",
              "ypc_stf 0.30153751\n",
              "tx_urb  0.62296478\n",
              "den     0.06624439\n",
              "jovens  0.26511672\n",
              "txnsf   0.08694486\n",
              "txph10          NA"
            ]
          },
          "metadata": {}
        }
      ]
    },
    {
      "cell_type": "markdown",
      "source": [
        "## **4. Modelo de Regressão**"
      ],
      "metadata": {
        "id": "2wDeOLnoCRyT"
      }
    },
    {
      "cell_type": "markdown",
      "source": [
        "### **4.1. Modelo Empilhado**"
      ],
      "metadata": {
        "id": "Y8kiZ-4tCWaN"
      }
    },
    {
      "cell_type": "code",
      "source": [
        "# 11. Regressao por MQO: vamos avaliar o nosso modelo. \n",
        "pooled <- plm(txcpt ~ log(gpc_edu) + log(ypc_stf) + tx_urb + den + jovens + \n",
        "                      txnsf + txph10, \n",
        "              data = base, model = \"pooling\")\n",
        "\n",
        "summary(pooled)\n",
        "vif(pooled)\n",
        "mean(vif(pooled))"
      ],
      "metadata": {
        "colab": {
          "base_uri": "https://localhost:8080/",
          "height": 590
        },
        "id": "ma6jAHyVCYJi",
        "outputId": "8aa2ba99-629c-4af8-a0aa-3f03f8d69321"
      },
      "execution_count": 11,
      "outputs": [
        {
          "output_type": "display_data",
          "data": {
            "text/plain": [
              "Pooling Model\n",
              "\n",
              "Call:\n",
              "plm(formula = txcpt ~ log(gpc_edu) + log(ypc_stf) + tx_urb + \n",
              "    den + jovens + txnsf + txph10, data = base, model = \"pooling\")\n",
              "\n",
              "Balanced Panel: n = 796, T = 20, N = 15920\n",
              "\n",
              "Residuals:\n",
              "    Min.  1st Qu.   Median  3rd Qu.     Max. \n",
              "-161.609  -36.086   -9.126   31.093  178.608 \n",
              "\n",
              "Coefficients:\n",
              "                  Estimate    Std. Error  t-value              Pr(>|t|)    \n",
              "(Intercept)  -143.07234809    4.50905399 -31.7300 < 0.00000000000000022 ***\n",
              "log(gpc_edu)    7.76609544    1.02292172   7.5921  0.000000000000033225 ***\n",
              "log(ypc_stf)   24.97777925    1.51536328  16.4830 < 0.00000000000000022 ***\n",
              "tx_urb          0.22039021    0.02775947   7.9393  0.000000000000002168 ***\n",
              "den             0.22677993    0.02176540  10.4193 < 0.00000000000000022 ***\n",
              "jovens          0.01265058    0.00030106  42.0205 < 0.00000000000000022 ***\n",
              "txnsf           0.01773874    0.09344426   0.1898               0.84944    \n",
              "txph10          0.00199867    0.00101714   1.9650               0.04943 *  \n",
              "---\n",
              "Signif. codes:  0 ‘***’ 0.001 ‘**’ 0.01 ‘*’ 0.05 ‘.’ 0.1 ‘ ’ 1\n",
              "\n",
              "Total Sum of Squares:    65465000\n",
              "Residual Sum of Squares: 41536000\n",
              "R-Squared:      0.36553\n",
              "Adj. R-Squared: 0.36525\n",
              "F-statistic: 1309.59 on 7 and 15912 DF, p-value: < 0.000000000000000222"
            ]
          },
          "metadata": {}
        },
        {
          "output_type": "display_data",
          "data": {
            "text/html": [
              "<style>\n",
              ".dl-inline {width: auto; margin:0; padding: 0}\n",
              ".dl-inline>dt, .dl-inline>dd {float: none; width: auto; display: inline-block}\n",
              ".dl-inline>dt::after {content: \":\\0020\"; padding-right: .5ex}\n",
              ".dl-inline>dt:not(:first-of-type) {padding-left: .5ex}\n",
              "</style><dl class=dl-inline><dt>log(gpc_edu)</dt><dd>2.52313499209916</dd><dt>log(ypc_stf)</dt><dd>7.10269322753053</dd><dt>tx_urb</dt><dd>1.7375634792708</dd><dt>den</dt><dd>1.48675329138916</dd><dt>jovens</dt><dd>1.76789944541885</dd><dt>txnsf</dt><dd>4.41417734056836</dd><dt>txph10</dt><dd>1.00104052405676</dd></dl>\n"
            ],
            "text/markdown": "log(gpc_edu)\n:   2.52313499209916log(ypc_stf)\n:   7.10269322753053tx_urb\n:   1.7375634792708den\n:   1.48675329138916jovens\n:   1.76789944541885txnsf\n:   4.41417734056836txph10\n:   1.00104052405676\n\n",
            "text/latex": "\\begin{description*}\n\\item[log(gpc\\textbackslash{}\\_edu)] 2.52313499209916\n\\item[log(ypc\\textbackslash{}\\_stf)] 7.10269322753053\n\\item[tx\\textbackslash{}\\_urb] 1.7375634792708\n\\item[den] 1.48675329138916\n\\item[jovens] 1.76789944541885\n\\item[txnsf] 4.41417734056836\n\\item[txph10] 1.00104052405676\n\\end{description*}\n",
            "text/plain": [
              "log(gpc_edu) log(ypc_stf)       tx_urb          den       jovens        txnsf \n",
              "    2.523135     7.102693     1.737563     1.486753     1.767899     4.414177 \n",
              "      txph10 \n",
              "    1.001041 "
            ]
          },
          "metadata": {}
        },
        {
          "output_type": "display_data",
          "data": {
            "text/html": [
              "2.86189461433337"
            ],
            "text/markdown": "2.86189461433337",
            "text/latex": "2.86189461433337",
            "text/plain": [
              "[1] 2.861895"
            ]
          },
          "metadata": {}
        }
      ]
    },
    {
      "cell_type": "markdown",
      "source": [
        "Inicialmente foi realizado o cálculo do fator de inflação de variância (VIF) para detecção de multicolinearidade no modelo (Wooldridge, 2016). Se os VIFs forem menores que 5, rejeita-se tal presença.  Como se observa na tabela abaixo, não houve multicolinearidade entre os regressores.\n",
        "\n",
        "\\\n",
        "\n",
        "Agora será realizado o teste de especificação de Ramsey. Como também será mostrada na tabela de resultados, a estatística do teste foi baixa no valor de 55,197, com um valor-p de 0,00, ou seja, a hipótese nula foi rejeitada, indicando que o modelo não foi adequadamente ajustado em sua forma funcional (Wooldridge, 2016). **Essa hipótese será relaxada**.\n"
      ],
      "metadata": {
        "id": "2kTVjCS8Ccsr"
      }
    },
    {
      "cell_type": "code",
      "source": [
        "# 8.3. Teste de especificação:\n",
        "ramsey <- lm(txcpt ~ log(gpc_edu) + log(ypc_stf) + tx_urb + den + jovens + \n",
        "                      txnsf + txph10, \n",
        "              data = base)\n",
        "reset(ramsey)"
      ],
      "metadata": {
        "colab": {
          "base_uri": "https://localhost:8080/",
          "height": 104
        },
        "id": "n_bkoD2mCgIO",
        "outputId": "c640a746-906c-4bc9-8378-3763545aabfb"
      },
      "execution_count": 12,
      "outputs": [
        {
          "output_type": "display_data",
          "data": {
            "text/plain": [
              "\n",
              "\tRESET test\n",
              "\n",
              "data:  ramsey\n",
              "RESET = 55.197, df1 = 2, df2 = 15910, p-value < 0.00000000000000022\n"
            ]
          },
          "metadata": {}
        }
      ]
    },
    {
      "cell_type": "markdown",
      "source": [
        "Agora vamos trabalhar com os modelos de efeitos fixos e efeitos aleatórios para fazer as comparações."
      ],
      "metadata": {
        "id": "xej3IvpGCor-"
      }
    },
    {
      "cell_type": "markdown",
      "source": [
        "### **4.2. Modelo de Efeitos Fixos**"
      ],
      "metadata": {
        "id": "Psyp3itfCp8a"
      }
    },
    {
      "cell_type": "code",
      "source": [
        "# 8.4. Modelo de efeitos fixos:\n",
        "fixos <-  plm(txcpt ~ log(gpc_edu) + log(ypc_stf) + tx_urb + den + jovens + \n",
        "                      txnsf + txph10, \n",
        "              data = base, model = \"within\")\n",
        "summary(fixos)"
      ],
      "metadata": {
        "colab": {
          "base_uri": "https://localhost:8080/",
          "height": 520
        },
        "id": "pRaOlBYBCrnS",
        "outputId": "e31dc825-3223-4dc2-bd22-2ff4ac722fad"
      },
      "execution_count": 13,
      "outputs": [
        {
          "output_type": "display_data",
          "data": {
            "text/plain": [
              "Oneway (individual) effect Within Model\n",
              "\n",
              "Call:\n",
              "plm(formula = txcpt ~ log(gpc_edu) + log(ypc_stf) + tx_urb + \n",
              "    den + jovens + txnsf + txph10, data = base, model = \"within\")\n",
              "\n",
              "Balanced Panel: n = 796, T = 20, N = 15920\n",
              "\n",
              "Residuals:\n",
              "     Min.   1st Qu.    Median   3rd Qu.      Max. \n",
              "-188.6617  -24.8403   -3.2803   21.1893  162.1918 \n",
              "\n",
              "Coefficients:\n",
              "                Estimate  Std. Error t-value              Pr(>|t|)    \n",
              "log(gpc_edu)  8.14788357  1.11883126  7.2825    0.0000000000003439 ***\n",
              "log(ypc_stf) 22.64029310  1.55694141 14.5415 < 0.00000000000000022 ***\n",
              "tx_urb        0.12281938  0.04404925  2.7882              0.005306 ** \n",
              "den           2.19223648  0.21624119 10.1379 < 0.00000000000000022 ***\n",
              "jovens       -0.00590253  0.00280766 -2.1023              0.035544 *  \n",
              "txnsf        -0.78432445  0.13096704 -5.9887    0.0000000021629684 ***\n",
              "txph10       -0.00048433  0.00115111 -0.4207              0.673946    \n",
              "---\n",
              "Signif. codes:  0 ‘***’ 0.001 ‘**’ 0.01 ‘*’ 0.05 ‘.’ 0.1 ‘ ’ 1\n",
              "\n",
              "Total Sum of Squares:    27813000\n",
              "Residual Sum of Squares: 23989000\n",
              "R-Squared:      0.13746\n",
              "Adj. R-Squared: 0.091702\n",
              "F-statistic: 344.168 on 7 and 15117 DF, p-value: < 0.000000000000000222"
            ]
          },
          "metadata": {}
        }
      ]
    },
    {
      "cell_type": "markdown",
      "source": [
        "### **4.3. Modelo de Efeitos Aleatórios**"
      ],
      "metadata": {
        "id": "6it6lu8jCwZK"
      }
    },
    {
      "cell_type": "code",
      "source": [
        "# 8.5. Modelo de efeitos aleatórios:\n",
        "aleatorios <-  plm(txcpt ~ log(gpc_edu) + log(ypc_stf) + tx_urb + den + jovens + \n",
        "                           txnsf + txph10, \n",
        "                   data = base, model = \"random\")\n",
        "summary(aleatorios)"
      ],
      "metadata": {
        "colab": {
          "base_uri": "https://localhost:8080/",
          "height": 659
        },
        "id": "Stb4TJUJC1vB",
        "outputId": "8f66784a-dcb3-4076-832f-5e1b3f0c53fe"
      },
      "execution_count": 14,
      "outputs": [
        {
          "output_type": "display_data",
          "data": {
            "text/plain": [
              "Oneway (individual) effect Random Effect Model \n",
              "   (Swamy-Arora's transformation)\n",
              "\n",
              "Call:\n",
              "plm(formula = txcpt ~ log(gpc_edu) + log(ypc_stf) + tx_urb + \n",
              "    den + jovens + txnsf + txph10, data = base, model = \"random\")\n",
              "\n",
              "Balanced Panel: n = 796, T = 20, N = 15920\n",
              "\n",
              "Effects:\n",
              "                  var std.dev share\n",
              "idiosyncratic 1586.92   39.84 0.611\n",
              "individual    1010.80   31.79 0.389\n",
              "theta: 0.7302\n",
              "\n",
              "Residuals:\n",
              "     Min.   1st Qu.    Median   3rd Qu.      Max. \n",
              "-179.3049  -27.2719   -5.3356   22.0704  156.5971 \n",
              "\n",
              "Coefficients:\n",
              "                  Estimate    Std. Error  z-value              Pr(>|z|)    \n",
              "(Intercept)  -141.13300513    4.38916253 -32.1549 < 0.00000000000000022 ***\n",
              "log(gpc_edu)    9.12747552    1.04008441   8.7757 < 0.00000000000000022 ***\n",
              "log(ypc_stf)   25.25065721    1.47528375  17.1158 < 0.00000000000000022 ***\n",
              "tx_urb          0.18408569    0.03899303   4.7210    0.0000023470064327 ***\n",
              "den             0.42831936    0.05865491   7.3024    0.0000000000002828 ***\n",
              "jovens          0.01222067    0.00075948  16.0908 < 0.00000000000000022 ***\n",
              "txnsf          -0.64580654    0.11448249  -5.6411    0.0000000168972421 ***\n",
              "txph10         -0.00014872    0.00111131  -0.1338                0.8935    \n",
              "---\n",
              "Signif. codes:  0 ‘***’ 0.001 ‘**’ 0.01 ‘*’ 0.05 ‘.’ 0.1 ‘ ’ 1\n",
              "\n",
              "Total Sum of Squares:    30553000\n",
              "Residual Sum of Squares: 25449000\n",
              "R-Squared:      0.16706\n",
              "Adj. R-Squared: 0.16669\n",
              "Chisq: 3191.44 on 7 DF, p-value: < 0.000000000000000222"
            ]
          },
          "metadata": {}
        }
      ]
    },
    {
      "cell_type": "markdown",
      "source": [
        "### **4.4. Testes de Especificação para Escolha do Modelo**"
      ],
      "metadata": {
        "id": "i0C3W657C6Zq"
      }
    },
    {
      "cell_type": "code",
      "source": [
        "# 8.6. Teste de Chow: efeitos fixos x pooled\n",
        "pFtest(fixos, pooled)\n",
        "#F test for individual effects\n",
        "#data:  crescimento ~ gini + educ_fem + invest_estad + pib_percapita\n",
        "#F = 3.6877, df1 = 25, df2 = 359, p-value = 2.117e-08\n",
        "#alternative hypothesis: significant effects\n",
        "\n",
        "# 8.6. Teste LM de Breush-Pagan:\n",
        "plmtest(pooled, type=\"bp\")\n",
        "#Lagrange Multiplier Test - (Breusch-Pagan) for unbalanced panels\n",
        "#data:  crescimento ~ gini + educ_fem + invest_estad + pib_percapita\n",
        "#chisq = 2.1467, df = 1, p-value = 0.1429\n",
        "#alternative hypothesis: significant effects\n",
        "\n",
        "# 8.7. Teste de Hausman:\n",
        "phtest(fixos, aleatorios)\n",
        "#Hausman Test\n",
        "#data:  crescimento ~ gini + educ_fem + invest_estad + pib_percapita\n",
        "#chisq = 114.71, df = 4, p-value < 2.2e-16\n",
        "#alternative hypothesis: one model is inconsistent"
      ],
      "metadata": {
        "colab": {
          "base_uri": "https://localhost:8080/",
          "height": 329
        },
        "id": "deJ3LLkvC8sL",
        "outputId": "1fd047ea-78ea-4848-98f7-9b10ff122bdb"
      },
      "execution_count": 15,
      "outputs": [
        {
          "output_type": "display_data",
          "data": {
            "text/plain": [
              "\n",
              "\tF test for individual effects\n",
              "\n",
              "data:  txcpt ~ log(gpc_edu) + log(ypc_stf) + tx_urb + den + jovens +  ...\n",
              "F = 13.908, df1 = 795, df2 = 15117, p-value < 0.00000000000000022\n",
              "alternative hypothesis: significant effects\n"
            ]
          },
          "metadata": {}
        },
        {
          "output_type": "display_data",
          "data": {
            "text/plain": [
              "\n",
              "\tLagrange Multiplier Test - (Breusch-Pagan) for balanced panels\n",
              "\n",
              "data:  txcpt ~ log(gpc_edu) + log(ypc_stf) + tx_urb + den + jovens +  ...\n",
              "chisq = 22298, df = 1, p-value < 0.00000000000000022\n",
              "alternative hypothesis: significant effects\n"
            ]
          },
          "metadata": {}
        },
        {
          "output_type": "display_data",
          "data": {
            "text/plain": [
              "\n",
              "\tHausman Test\n",
              "\n",
              "data:  txcpt ~ log(gpc_edu) + log(ypc_stf) + tx_urb + den + jovens +  ...\n",
              "chisq = 136.95, df = 7, p-value < 0.00000000000000022\n",
              "alternative hypothesis: one model is inconsistent\n"
            ]
          },
          "metadata": {}
        }
      ]
    },
    {
      "cell_type": "markdown",
      "source": [
        "No primeiro teste, comparando o modelo empilhado contra o de efeitos fixos, o valor da estatística F do teste de Chow foi de 13,949 com um valor-p de 0,00, ou seja, a hipótese nula foi rejeitada. Neste caso a heterogeneidade dos municípios foi significante.\n",
        "\n",
        "\\\n",
        "\n",
        "Já o teste de Hausman que compara o modelo de EF contra o EA, a estatística qui-quadrado do teste foi de 184,67 e o seu valor-p foi de 0,00, indicando que há diferença entre os coeficientes de efeitos fixos e aleatórios no modelo. Dessa forma, o ideal é se trabalhar com o modelo em efeitos fixos.  \n",
        "\n",
        "\\\n",
        "\n",
        "Por fim, o teste Teste LM de Breusch-Pagan O resultado da estatística qui-quadrado do teste 22.074 e o valor-p de 0,00 rejeitando a hipótese nula. Neste caso a presença dos efeitos aleatórios foi significante. \n",
        "\n",
        "\\\n",
        "\n",
        "**Conclusão:** Pelos testes de especificação o modelo mais robusto foi o de Efeitos Fixos."
      ],
      "metadata": {
        "id": "zhwXlAoqDAqy"
      }
    },
    {
      "cell_type": "markdown",
      "source": [
        "### **4.5. Testes de Eficiência do Modelo de Efeitos Fixos**"
      ],
      "metadata": {
        "id": "jx0oO0i1DFZC"
      }
    },
    {
      "cell_type": "markdown",
      "source": [
        "#### **4.5.1. Teste de Wooldridge para autocorrelação Serial de Dados em Painel**"
      ],
      "metadata": {
        "id": "vQosvEDrDMNK"
      }
    },
    {
      "cell_type": "code",
      "source": [
        "# 8.9. Teste de autocorrelação serial: \n",
        "pbgtest(fixos)"
      ],
      "metadata": {
        "colab": {
          "base_uri": "https://localhost:8080/",
          "height": 121
        },
        "id": "1dJ8tMHODOrk",
        "outputId": "46c5e0da-d6ce-4e63-ed83-c43301e76dd4"
      },
      "execution_count": 16,
      "outputs": [
        {
          "output_type": "display_data",
          "data": {
            "text/plain": [
              "\n",
              "\tBreusch-Godfrey/Wooldridge test for serial correlation in panel models\n",
              "\n",
              "data:  txcpt ~ log(gpc_edu) + log(ypc_stf) + tx_urb + den + jovens +  ...\n",
              "chisq = 2536.7, df = 20, p-value < 0.00000000000000022\n",
              "alternative hypothesis: serial correlation in idiosyncratic errors\n"
            ]
          },
          "metadata": {}
        }
      ]
    },
    {
      "cell_type": "markdown",
      "source": [
        "A hipótese nula de não existência de autocorrelação serial nos resíduos foi rejeitada para o modelo de efeitos fixos. Neste caso, este problema deverá ser corrigido. Antes da correção será avaliada a dispersão nos resíduos. "
      ],
      "metadata": {
        "id": "uvkRX6L8DRzS"
      }
    },
    {
      "cell_type": "markdown",
      "source": [
        "#### **4.5.2. Teste de Breusch-Pagan para Heterocedasticidade em Grupo**"
      ],
      "metadata": {
        "id": "gdlxEffLDW5i"
      }
    },
    {
      "cell_type": "code",
      "source": [
        "# 8.9. Teste de heterocedasticidade \n",
        "bptest(fixos)"
      ],
      "metadata": {
        "colab": {
          "base_uri": "https://localhost:8080/",
          "height": 104
        },
        "id": "euvuPsKPDY7R",
        "outputId": "d92e0ef1-f444-4943-d902-8fb4f23831b5"
      },
      "execution_count": 17,
      "outputs": [
        {
          "output_type": "display_data",
          "data": {
            "text/plain": [
              "\n",
              "\tstudentized Breusch-Pagan test\n",
              "\n",
              "data:  fixos\n",
              "BP = 1240.1, df = 7, p-value < 0.00000000000000022\n"
            ]
          },
          "metadata": {}
        }
      ]
    },
    {
      "cell_type": "markdown",
      "source": [
        "A hipótese nula de homocedasticidade foi rejeitada, isto é, o modelo sofre com a dispersão não aleatória nos resíduos o que atrapalha a análise da consistência dos estimadores utilizados. Este problema será corrigido por meio da ajuste nos erros-padrão robustos de White, que também irá ajustar o problema na autocorrelação residual."
      ],
      "metadata": {
        "id": "Eng2EIboDb77"
      }
    },
    {
      "cell_type": "markdown",
      "source": [
        "#### **4.5.3. Teste Shapiro-Wilk de Normalidade nos Resíduos* modelo de efeitos fixos**"
      ],
      "metadata": {
        "id": "BboLiCkjDgQE"
      }
    },
    {
      "cell_type": "code",
      "source": [
        "# 8.9. Teste de Normalidade\n",
        "shapiro.test(fixos$residuals)"
      ],
      "metadata": {
        "colab": {
          "base_uri": "https://localhost:8080/",
          "height": 148
        },
        "id": "Xp7AUH99DjRc",
        "outputId": "f8a09f38-7d31-41a2-ff81-bc0e03e3ffd3"
      },
      "execution_count": 19,
      "outputs": [
        {
          "output_type": "error",
          "ename": "ERROR",
          "evalue": "ignored",
          "traceback": [
            "Error in shapiro.test(fixos$residuals): sample size must be between 3 and 5000\nTraceback:\n",
            "1. shapiro.test(fixos$residuals)",
            "2. stop(\"sample size must be between 3 and 5000\")"
          ]
        }
      ]
    },
    {
      "cell_type": "markdown",
      "source": [
        "O valor-p do teste não foi exibido, não se permitindo tirar conclusões sobre a hipótese nula de normalidade nos resíduos. Como o modelo de dados em painel cria uma série temporal para cada corte transversal a amostra ficou acima de 30 no painel, podendo dessa forma se trabalhar com a hipótese de normalidade assintótica. "
      ],
      "metadata": {
        "id": "wXTZk1biD5qq"
      }
    },
    {
      "cell_type": "markdown",
      "source": [
        "#### **4.5.4. Modelo com Erros-Padrão Robustos**"
      ],
      "metadata": {
        "id": "Vbv-n0HXEJqV"
      }
    },
    {
      "cell_type": "code",
      "source": [
        "# 8.11. Erros-padrão robustos:\n",
        "fixos_robust <- coeftest(fixos, vcov. = vcovHC)\n",
        "\n",
        "stargazer(fixos, type = \"text\", ci = TRUE, title = \"Resultados\",\n",
        "          dep.var.labels = \"Crescimento\", decimal.mark = \",\")"
      ],
      "metadata": {
        "colab": {
          "base_uri": "https://localhost:8080/"
        },
        "id": "ePD5EyR2Er8R",
        "outputId": "6ca4c08b-9287-4721-ed7e-df5b6b02df3d"
      },
      "execution_count": 20,
      "outputs": [
        {
          "output_type": "stream",
          "name": "stdout",
          "text": [
            "\n",
            "Resultados\n",
            "========================================\n",
            "                 Dependent variable:    \n",
            "             ---------------------------\n",
            "                     Crescimento        \n",
            "----------------------------------------\n",
            "log(gpc_edu)          8,148***          \n",
            "                   (5,955, 10,341)      \n",
            "                                        \n",
            "log(ypc_stf)          22,640***         \n",
            "                  (19,589, 25,692)      \n",
            "                                        \n",
            "tx_urb                0,123***          \n",
            "                   (0,036, 0,209)       \n",
            "                                        \n",
            "den                   2,192***          \n",
            "                   (1,768, 2,616)       \n",
            "                                        \n",
            "jovens                -0,006**          \n",
            "                  (-0,011, -0,0004)     \n",
            "                                        \n",
            "txnsf                 -0,784***         \n",
            "                  (-1,041, -0,528)      \n",
            "                                        \n",
            "txph10                 -0,0005          \n",
            "                   (-0,003, 0,002)      \n",
            "                                        \n",
            "----------------------------------------\n",
            "Observations           15,920           \n",
            "R2                      0,137           \n",
            "Adjusted R2             0,092           \n",
            "F Statistic  344,168*** (df = 7; 15117) \n",
            "========================================\n",
            "Note:        *p<0,1; **p<0,05; ***p<0,01\n"
          ]
        }
      ]
    },
    {
      "cell_type": "markdown",
      "source": [
        "## **5. Interpretação dos Resultados do Modelo**\n",
        "\n",
        "Os gastos com ensino tiveram efeito positivo sobre o aumento esperado nas taxas de crimes contra o patrimônio, o que não faz sentido do ponto de vista econômico. O valor do rendimento total dos empregados do setor formal também teve efeito positivo, assim como tx_urb e den. Já o número de jovens e número de empregados no setor formal tiveram efeitos negativos. Já a razão entre a população total do município e o número de policiais militares lotados na unidade (habitantes/nº policiais) teve efeito nulo.\n",
        "\n",
        "\\\n",
        "\n",
        "O modelo com dados em painel por efeitos fixos gerou resultados inadequados do ponto de vista teórico  para este tipo de análise. Isto provavelmente ocorreu por conta da a alta correlação entre os crimes passados com os crimes no presente, o que parece ser mais adequado seria a estimação generalizada por momentos levando em consideração a variável dependente defasada. "
      ],
      "metadata": {
        "id": "xUy18MfLE0Sg"
      }
    },
    {
      "cell_type": "markdown",
      "source": [
        "## **Referências Bibliográficas**\n",
        "\n",
        "GUJARATI, D. N.; PORTER, D. C. **Econometria básica**. 5. ed. Porto Alegre: AMGH, 2011. P. 588-603.\n",
        "\n",
        "\\\n",
        "\n",
        "HAIR Jr., J.F.; BLACK, W.C.; BABIN, B.J.; ANDERSON, R.E. & TATHAM, R.L. **Análise multivariada de dados**. 6.ed. Porto Alegre, Bookman, 2009. 688p.\n",
        "\n",
        "\\\n",
        "\n",
        "Hastings, Jr., Cecil; Mosteller, Frederick; Tukey, John W.; Winsor, Charles P. \"Low moments for small samples: a comparative study of order statistics\". **Annals of Mathematical Statistics**, 1947.\n",
        "\n",
        "\\\n",
        "\n",
        "Magalhães, MN; Lima, ACP. **Noções de Probabilidade e Estatística**. São Paulo. EDUSP, 2008.\n",
        "\n",
        "\\\n",
        "\n",
        "WOOLDRIDGE, J. M. **Introdução à Econometria: uma abordagem moderna**. 3º ed. São Paulo: Cengage Learning, 2016.\n",
        "\n",
        "\\\n",
        "\n",
        "WOOLDRIDGE, J., **Econometric analysis of  cross section and panel data**, MIT Press, Cambridge, Massachusett, 2002.\n"
      ],
      "metadata": {
        "id": "PBzas0uLE6Ra"
      }
    }
  ]
}