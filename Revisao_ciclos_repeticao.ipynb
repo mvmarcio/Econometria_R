{
 "cells": [
  {
   "cell_type": "markdown",
   "id": "1e8de0f3",
   "metadata": {},
   "source": [
    "## **Revisão Ciclos for e while**\n",
    "\n",
    "O objetivo deste notebook é fazer uma revisão dos ciclos for e while. "
   ]
  },
  {
   "cell_type": "code",
   "execution_count": 4,
   "id": "38d80e1c",
   "metadata": {},
   "outputs": [
    {
     "name": "stdout",
     "output_type": "stream",
     "text": [
      "Digite um número: 6\n",
      "6x0=0\n",
      "6x1=6\n",
      "6x2=12\n",
      "6x3=18\n",
      "6x4=24\n",
      "6x5=30\n",
      "6x6=36\n",
      "6x7=42\n",
      "6x8=48\n",
      "6x9=54\n",
      "6x10=60\n"
     ]
    }
   ],
   "source": [
    "# Vamos criar um algoritmo para fazer a tabuada\n",
    "\n",
    "num = int(input('Digite um número: '))\n",
    "\n",
    "for i in range(0, 11):\n",
    "    print('{}x{}={}'.format(num, i, num*i))"
   ]
  },
  {
   "cell_type": "code",
   "execution_count": 30,
   "id": "c4b196c2",
   "metadata": {},
   "outputs": [],
   "source": [
    "# Vamos criar uma função para ler a tabuada:\n",
    "\n",
    "def tabuada(x):\n",
    "    x \n",
    "    \n",
    "    for y in range(0,11):\n",
    "        print('{}x{}={}'.format(x, y, x*y))"
   ]
  },
  {
   "cell_type": "code",
   "execution_count": 31,
   "id": "24a98cc5",
   "metadata": {},
   "outputs": [
    {
     "name": "stdout",
     "output_type": "stream",
     "text": [
      "3x0=0\n",
      "3x1=3\n",
      "3x2=6\n",
      "3x3=9\n",
      "3x4=12\n",
      "3x5=15\n",
      "3x6=18\n",
      "3x7=21\n",
      "3x8=24\n",
      "3x9=27\n",
      "3x10=30\n"
     ]
    }
   ],
   "source": [
    "# Testando a função\n",
    "\n",
    "tabuada(3)"
   ]
  },
  {
   "cell_type": "code",
   "execution_count": 28,
   "id": "44fdb674",
   "metadata": {},
   "outputs": [],
   "source": [
    "# Vamos criar uma função para encotrar as raízes de uma equação de segundo grau\n",
    "\n",
    "def segundo_grau(a,b,c):\n",
    "    delta = b**2 - 4*a*c\n",
    "    \n",
    "    if a == 0:\n",
    "        print('Esta não é uma equação do segundo grau.')\n",
    "        \n",
    "    x1 = (-b + delta**0.5)/(2*a)\n",
    "    x2 = (-b - delta**0.5)/(2*a)\n",
    "        \n",
    "    \n",
    "    if delta < 0:\n",
    "        print('Esta equação não possui raízes reais.')\n",
    "    else:\n",
    "        print('As raízes da equação de segundo grau são x1 = {:.3f} e x2 = {:.3f}.'.format(x1, x2))"
   ]
  },
  {
   "cell_type": "code",
   "execution_count": 29,
   "id": "82efb97b",
   "metadata": {},
   "outputs": [
    {
     "name": "stdout",
     "output_type": "stream",
     "text": [
      "As raízes da equação de segundo grau são x1 = -0.382 e x2 = -2.618.\n"
     ]
    }
   ],
   "source": [
    "# Testando a função para a equação do segundo grau\n",
    "\n",
    "segundo_grau(1,3,1)"
   ]
  },
  {
   "cell_type": "code",
   "execution_count": 33,
   "id": "399bca35",
   "metadata": {},
   "outputs": [
    {
     "name": "stdout",
     "output_type": "stream",
     "text": [
      "1\n",
      "3\n",
      "5\n",
      "7\n",
      "9\n"
     ]
    }
   ],
   "source": [
    "# Ciclo while\n",
    "\n",
    "for c in range(1,10,2):\n",
    "    print(c)"
   ]
  },
  {
   "cell_type": "code",
   "execution_count": 34,
   "id": "fa870c2c",
   "metadata": {},
   "outputs": [
    {
     "name": "stdout",
     "output_type": "stream",
     "text": [
      "1\n",
      "2\n",
      "3\n",
      "4\n",
      "5\n",
      "6\n",
      "7\n",
      "8\n",
      "9\n",
      "Fim\n"
     ]
    }
   ],
   "source": [
    "c = 1\n",
    "\n",
    "while c < 10:\n",
    "    print(c)\n",
    "    c = c + 1\n",
    "print('Fim')"
   ]
  },
  {
   "cell_type": "code",
   "execution_count": 35,
   "id": "bac41a91",
   "metadata": {},
   "outputs": [
    {
     "name": "stdout",
     "output_type": "stream",
     "text": [
      "A soma foi de 600 e o produto de 4363685581929980866560000.\n"
     ]
    }
   ],
   "source": [
    "# Vamos somar e multiplicar os números que são divisíveis por 3 no intervalo de 15 a 60\n",
    "\n",
    "soma = 0\n",
    "produto = 1\n",
    "\n",
    "for i in range(15, 61):\n",
    "    if i % 3 == 0:\n",
    "        soma = soma + i\n",
    "        produto = produto * i\n",
    "        \n",
    "print('A soma foi de {} e o produto de {}.'.format(soma, produto))"
   ]
  },
  {
   "cell_type": "code",
   "execution_count": 36,
   "id": "1f552135",
   "metadata": {},
   "outputs": [
    {
     "name": "stdout",
     "output_type": "stream",
     "text": [
      "Digite um número: 1\n",
      "Digite um número: 2\n",
      "Digite um número: 3\n",
      "Digite um número: 3\n",
      "Digite um número: 3\n",
      "Digite um número: 0\n",
      "Fim.\n"
     ]
    }
   ],
   "source": [
    "n = 1\n",
    "\n",
    "while n != 0:\n",
    "    n = int(input('Digite um número: '))\n",
    "    \n",
    "print('Fim.')"
   ]
  },
  {
   "cell_type": "code",
   "execution_count": 37,
   "id": "33e17729",
   "metadata": {},
   "outputs": [
    {
     "name": "stdout",
     "output_type": "stream",
     "text": [
      "Digite um valor: 2\n",
      "Quer continuar? [s/n]s\n",
      "Digite um valor: 3\n",
      "Quer continuar? [s/n]n\n",
      "Fim.\n"
     ]
    }
   ],
   "source": [
    "r = 'S'\n",
    "\n",
    "while r == 'S':\n",
    "    n = int(input('Digite um valor: '))\n",
    "    r = str(input('Quer continuar? [s/n]')).upper()\n",
    "print('Fim.')"
   ]
  },
  {
   "cell_type": "code",
   "execution_count": 41,
   "id": "117936c6",
   "metadata": {},
   "outputs": [
    {
     "name": "stdout",
     "output_type": "stream",
     "text": [
      "Digite um valor: 2\n",
      "Digite um valor: 3\n",
      "Digite um valor: 3\n",
      "Digite um valor: 3\n",
      "Digite um valor: 3\n",
      "Digite um valor: 3\n",
      "Digite um valor: 5\n",
      "Digite um valor: 0\n",
      "Você digitou 1 números pares e 6 números ímpares!\n"
     ]
    }
   ],
   "source": [
    "n = 1\n",
    "par = impar = 0\n",
    "\n",
    "while n != 0:\n",
    "    n = int(input('Digite um valor: '))\n",
    "    if n != 0:\n",
    "        if n % 2 == 0:\n",
    "            par = par + 1\n",
    "        else:\n",
    "            impar = impar + 1\n",
    "        \n",
    "print('Você digitou {} números pares e {} números ímpares!'.format(par, impar))"
   ]
  },
  {
   "cell_type": "code",
   "execution_count": null,
   "id": "02d9517f",
   "metadata": {},
   "outputs": [],
   "source": []
  }
 ],
 "metadata": {
  "kernelspec": {
   "display_name": "Python 3 (ipykernel)",
   "language": "python",
   "name": "python3"
  },
  "language_info": {
   "codemirror_mode": {
    "name": "ipython",
    "version": 3
   },
   "file_extension": ".py",
   "mimetype": "text/x-python",
   "name": "python",
   "nbconvert_exporter": "python",
   "pygments_lexer": "ipython3",
   "version": "3.9.12"
  }
 },
 "nbformat": 4,
 "nbformat_minor": 5
}
